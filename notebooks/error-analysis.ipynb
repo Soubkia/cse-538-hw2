{
 "cells": [
  {
   "cell_type": "code",
   "execution_count": 1,
   "id": "2b6356ea-db4d-4be7-9041-30660342e992",
   "metadata": {},
   "outputs": [],
   "source": [
    "%matplotlib inline"
   ]
  },
  {
   "cell_type": "code",
   "execution_count": 2,
   "id": "28096711-4eae-400d-827d-15690e1ddef2",
   "metadata": {},
   "outputs": [],
   "source": [
    "import pandas as pd"
   ]
  },
  {
   "cell_type": "code",
   "execution_count": 36,
   "id": "b0364c3b-7ab3-4861-a944-43bec498e515",
   "metadata": {},
   "outputs": [],
   "source": [
    "test_data = pd.read_json(\"../data/imdb_sentiment_test.jsonl\", lines=True)\n",
    "dan_preds = pd.read_csv(\n",
    "    \"../serialization_dirs/probing_sentiment_dan_with_emb_on_5k_at_layer_4/\"\n",
    "    \"predictions_imdb_sentiment_5k_test.txt\", header=None, names=[\"dan\"]\n",
    ")\n",
    "gru_preds = pd.read_csv(\n",
    "    \"../serialization_dirs/probing_sentiment_gru_with_emb_on_5k_at_layer_4/\"\n",
    "    \"predictions_imdb_sentiment_5k_test.txt\", header=None, names=[\"gru\"]\n",
    ")"
   ]
  },
  {
   "cell_type": "code",
   "execution_count": 38,
   "id": "3efa0518-460f-4465-885f-68ff8900710d",
   "metadata": {},
   "outputs": [
    {
     "data": {
      "text/html": [
       "<div>\n",
       "<style scoped>\n",
       "    .dataframe tbody tr th:only-of-type {\n",
       "        vertical-align: middle;\n",
       "    }\n",
       "\n",
       "    .dataframe tbody tr th {\n",
       "        vertical-align: top;\n",
       "    }\n",
       "\n",
       "    .dataframe thead th {\n",
       "        text-align: right;\n",
       "    }\n",
       "</style>\n",
       "<table border=\"1\" class=\"dataframe\">\n",
       "  <thead>\n",
       "    <tr style=\"text-align: right;\">\n",
       "      <th></th>\n",
       "      <th>text</th>\n",
       "      <th>label</th>\n",
       "      <th>dan</th>\n",
       "      <th>gru</th>\n",
       "    </tr>\n",
       "  </thead>\n",
       "  <tbody>\n",
       "    <tr>\n",
       "      <th>0</th>\n",
       "      <td>Atlantis is probally the best Disney movie tha...</td>\n",
       "      <td>1</td>\n",
       "      <td>1</td>\n",
       "      <td>1</td>\n",
       "    </tr>\n",
       "    <tr>\n",
       "      <th>1</th>\n",
       "      <td>There's an inexhaustible hunger for \"basic tra...</td>\n",
       "      <td>1</td>\n",
       "      <td>1</td>\n",
       "      <td>1</td>\n",
       "    </tr>\n",
       "    <tr>\n",
       "      <th>2</th>\n",
       "      <td>This is a good movie, although people unfamili...</td>\n",
       "      <td>1</td>\n",
       "      <td>1</td>\n",
       "      <td>1</td>\n",
       "    </tr>\n",
       "    <tr>\n",
       "      <th>3</th>\n",
       "      <td>This was probably the worst movie ever, seriou...</td>\n",
       "      <td>0</td>\n",
       "      <td>0</td>\n",
       "      <td>0</td>\n",
       "    </tr>\n",
       "    <tr>\n",
       "      <th>4</th>\n",
       "      <td>Curiosity led me to this \"masterpiece\". Unfort...</td>\n",
       "      <td>0</td>\n",
       "      <td>0</td>\n",
       "      <td>0</td>\n",
       "    </tr>\n",
       "    <tr>\n",
       "      <th>...</th>\n",
       "      <td>...</td>\n",
       "      <td>...</td>\n",
       "      <td>...</td>\n",
       "      <td>...</td>\n",
       "    </tr>\n",
       "    <tr>\n",
       "      <th>2995</th>\n",
       "      <td>When his in-laws are viciously murdered by a g...</td>\n",
       "      <td>0</td>\n",
       "      <td>0</td>\n",
       "      <td>0</td>\n",
       "    </tr>\n",
       "    <tr>\n",
       "      <th>2996</th>\n",
       "      <td>This movie is terrible. Carlitos Way(1993) is ...</td>\n",
       "      <td>0</td>\n",
       "      <td>0</td>\n",
       "      <td>0</td>\n",
       "    </tr>\n",
       "    <tr>\n",
       "      <th>2997</th>\n",
       "      <td>I caught this on Showtime tonight and was amaz...</td>\n",
       "      <td>0</td>\n",
       "      <td>0</td>\n",
       "      <td>0</td>\n",
       "    </tr>\n",
       "    <tr>\n",
       "      <th>2998</th>\n",
       "      <td>This is listed as a documentary, it's not, it'...</td>\n",
       "      <td>0</td>\n",
       "      <td>0</td>\n",
       "      <td>0</td>\n",
       "    </tr>\n",
       "    <tr>\n",
       "      <th>2999</th>\n",
       "      <td>The title should have been \"The walker\". That ...</td>\n",
       "      <td>0</td>\n",
       "      <td>0</td>\n",
       "      <td>0</td>\n",
       "    </tr>\n",
       "  </tbody>\n",
       "</table>\n",
       "<p>3000 rows × 4 columns</p>\n",
       "</div>"
      ],
      "text/plain": [
       "                                                   text  label  dan  gru\n",
       "0     Atlantis is probally the best Disney movie tha...      1    1    1\n",
       "1     There's an inexhaustible hunger for \"basic tra...      1    1    1\n",
       "2     This is a good movie, although people unfamili...      1    1    1\n",
       "3     This was probably the worst movie ever, seriou...      0    0    0\n",
       "4     Curiosity led me to this \"masterpiece\". Unfort...      0    0    0\n",
       "...                                                 ...    ...  ...  ...\n",
       "2995  When his in-laws are viciously murdered by a g...      0    0    0\n",
       "2996  This movie is terrible. Carlitos Way(1993) is ...      0    0    0\n",
       "2997  I caught this on Showtime tonight and was amaz...      0    0    0\n",
       "2998  This is listed as a documentary, it's not, it'...      0    0    0\n",
       "2999  The title should have been \"The walker\". That ...      0    0    0\n",
       "\n",
       "[3000 rows x 4 columns]"
      ]
     },
     "execution_count": 38,
     "metadata": {},
     "output_type": "execute_result"
    }
   ],
   "source": [
    "(test_data.merge(dan_preds, left_index=True, right_index=True)\n",
    "          .merge(gru_preds, left_index=True, right_index=True))"
   ]
  },
  {
   "cell_type": "code",
   "execution_count": 40,
   "id": "3bd5979d-4c08-4da7-998a-e22e60d21892",
   "metadata": {},
   "outputs": [],
   "source": [
    "df = pd.concat([test_data, dan_preds, gru_preds], axis=1)"
   ]
  },
  {
   "cell_type": "code",
   "execution_count": 51,
   "id": "ccc5f1cd-e0bf-4ac7-a2bc-2c4d9a4ddcb7",
   "metadata": {},
   "outputs": [
    {
     "data": {
      "text/html": [
       "<div>\n",
       "<style scoped>\n",
       "    .dataframe tbody tr th:only-of-type {\n",
       "        vertical-align: middle;\n",
       "    }\n",
       "\n",
       "    .dataframe tbody tr th {\n",
       "        vertical-align: top;\n",
       "    }\n",
       "\n",
       "    .dataframe thead th {\n",
       "        text-align: right;\n",
       "    }\n",
       "</style>\n",
       "<table border=\"1\" class=\"dataframe\">\n",
       "  <thead>\n",
       "    <tr style=\"text-align: right;\">\n",
       "      <th></th>\n",
       "      <th>text</th>\n",
       "      <th>label</th>\n",
       "      <th>dan</th>\n",
       "      <th>gru</th>\n",
       "    </tr>\n",
       "  </thead>\n",
       "  <tbody>\n",
       "    <tr>\n",
       "      <th>93</th>\n",
       "      <td>Ulises is a literature teacher that arrives to...</td>\n",
       "      <td>0</td>\n",
       "      <td>1</td>\n",
       "      <td>0</td>\n",
       "    </tr>\n",
       "    <tr>\n",
       "      <th>96</th>\n",
       "      <td>A high school principal (Keenan Wynn) with a l...</td>\n",
       "      <td>0</td>\n",
       "      <td>1</td>\n",
       "      <td>0</td>\n",
       "    </tr>\n",
       "    <tr>\n",
       "      <th>129</th>\n",
       "      <td>Very rarely does one come across an indie come...</td>\n",
       "      <td>1</td>\n",
       "      <td>0</td>\n",
       "      <td>1</td>\n",
       "    </tr>\n",
       "    <tr>\n",
       "      <th>135</th>\n",
       "      <td>I borrowed this movie because not only because...</td>\n",
       "      <td>0</td>\n",
       "      <td>1</td>\n",
       "      <td>0</td>\n",
       "    </tr>\n",
       "    <tr>\n",
       "      <th>143</th>\n",
       "      <td>With this topic, it is so easy to take cheap s...</td>\n",
       "      <td>1</td>\n",
       "      <td>0</td>\n",
       "      <td>1</td>\n",
       "    </tr>\n",
       "    <tr>\n",
       "      <th>...</th>\n",
       "      <td>...</td>\n",
       "      <td>...</td>\n",
       "      <td>...</td>\n",
       "      <td>...</td>\n",
       "    </tr>\n",
       "    <tr>\n",
       "      <th>2909</th>\n",
       "      <td>Whoever thought that ANOTHER Home Alone film w...</td>\n",
       "      <td>0</td>\n",
       "      <td>1</td>\n",
       "      <td>0</td>\n",
       "    </tr>\n",
       "    <tr>\n",
       "      <th>2913</th>\n",
       "      <td>Mina Kumari exhibits more style and grace just...</td>\n",
       "      <td>1</td>\n",
       "      <td>0</td>\n",
       "      <td>1</td>\n",
       "    </tr>\n",
       "    <tr>\n",
       "      <th>2948</th>\n",
       "      <td>Fido is a cute comedy that deserves wider reco...</td>\n",
       "      <td>1</td>\n",
       "      <td>0</td>\n",
       "      <td>1</td>\n",
       "    </tr>\n",
       "    <tr>\n",
       "      <th>2955</th>\n",
       "      <td>Despite the excellent cast, this is an unremar...</td>\n",
       "      <td>0</td>\n",
       "      <td>1</td>\n",
       "      <td>0</td>\n",
       "    </tr>\n",
       "    <tr>\n",
       "      <th>2983</th>\n",
       "      <td>The French Naudet brothers did something nobod...</td>\n",
       "      <td>1</td>\n",
       "      <td>0</td>\n",
       "      <td>1</td>\n",
       "    </tr>\n",
       "  </tbody>\n",
       "</table>\n",
       "<p>142 rows × 4 columns</p>\n",
       "</div>"
      ],
      "text/plain": [
       "                                                   text  label  dan  gru\n",
       "93    Ulises is a literature teacher that arrives to...      0    1    0\n",
       "96    A high school principal (Keenan Wynn) with a l...      0    1    0\n",
       "129   Very rarely does one come across an indie come...      1    0    1\n",
       "135   I borrowed this movie because not only because...      0    1    0\n",
       "143   With this topic, it is so easy to take cheap s...      1    0    1\n",
       "...                                                 ...    ...  ...  ...\n",
       "2909  Whoever thought that ANOTHER Home Alone film w...      0    1    0\n",
       "2913  Mina Kumari exhibits more style and grace just...      1    0    1\n",
       "2948  Fido is a cute comedy that deserves wider reco...      1    0    1\n",
       "2955  Despite the excellent cast, this is an unremar...      0    1    0\n",
       "2983  The French Naudet brothers did something nobod...      1    0    1\n",
       "\n",
       "[142 rows x 4 columns]"
      ]
     },
     "execution_count": 51,
     "metadata": {},
     "output_type": "execute_result"
    }
   ],
   "source": [
    "df.query(\"gru == label and dan != label\")"
   ]
  },
  {
   "cell_type": "code",
   "execution_count": 54,
   "id": "429fe703-41b6-4b09-8ba9-93f4aa90f424",
   "metadata": {},
   "outputs": [
    {
     "data": {
      "text/html": [
       "<div>\n",
       "<style scoped>\n",
       "    .dataframe tbody tr th:only-of-type {\n",
       "        vertical-align: middle;\n",
       "    }\n",
       "\n",
       "    .dataframe tbody tr th {\n",
       "        vertical-align: top;\n",
       "    }\n",
       "\n",
       "    .dataframe thead th {\n",
       "        text-align: right;\n",
       "    }\n",
       "</style>\n",
       "<table border=\"1\" class=\"dataframe\">\n",
       "  <thead>\n",
       "    <tr style=\"text-align: right;\">\n",
       "      <th></th>\n",
       "      <th>text</th>\n",
       "      <th>label</th>\n",
       "      <th>dan</th>\n",
       "      <th>gru</th>\n",
       "    </tr>\n",
       "  </thead>\n",
       "  <tbody>\n",
       "    <tr>\n",
       "      <th>9</th>\n",
       "      <td>One of those, \"Why was this made?\" movies. The...</td>\n",
       "      <td>0</td>\n",
       "      <td>0</td>\n",
       "      <td>1</td>\n",
       "    </tr>\n",
       "    <tr>\n",
       "      <th>13</th>\n",
       "      <td>Sorry, I don't have much time to write. I am n...</td>\n",
       "      <td>1</td>\n",
       "      <td>1</td>\n",
       "      <td>0</td>\n",
       "    </tr>\n",
       "    <tr>\n",
       "      <th>18</th>\n",
       "      <td>One wonders how the script came to be written....</td>\n",
       "      <td>0</td>\n",
       "      <td>0</td>\n",
       "      <td>1</td>\n",
       "    </tr>\n",
       "    <tr>\n",
       "      <th>21</th>\n",
       "      <td>The Egyptian Movies has A Lot Of Filmes With H...</td>\n",
       "      <td>0</td>\n",
       "      <td>0</td>\n",
       "      <td>1</td>\n",
       "    </tr>\n",
       "    <tr>\n",
       "      <th>33</th>\n",
       "      <td>This movie proves that you can't judge a movie...</td>\n",
       "      <td>0</td>\n",
       "      <td>0</td>\n",
       "      <td>1</td>\n",
       "    </tr>\n",
       "    <tr>\n",
       "      <th>...</th>\n",
       "      <td>...</td>\n",
       "      <td>...</td>\n",
       "      <td>...</td>\n",
       "      <td>...</td>\n",
       "    </tr>\n",
       "    <tr>\n",
       "      <th>2933</th>\n",
       "      <td>I thought that this film was very enjoyable. I...</td>\n",
       "      <td>1</td>\n",
       "      <td>1</td>\n",
       "      <td>0</td>\n",
       "    </tr>\n",
       "    <tr>\n",
       "      <th>2947</th>\n",
       "      <td>Witty and disgusting. Brash and intelligent. B...</td>\n",
       "      <td>1</td>\n",
       "      <td>1</td>\n",
       "      <td>0</td>\n",
       "    </tr>\n",
       "    <tr>\n",
       "      <th>2965</th>\n",
       "      <td>This version is pretty insipid, I'm afraid. Ja...</td>\n",
       "      <td>0</td>\n",
       "      <td>0</td>\n",
       "      <td>1</td>\n",
       "    </tr>\n",
       "    <tr>\n",
       "      <th>2967</th>\n",
       "      <td>Jack Frost is about a serial killer who is sen...</td>\n",
       "      <td>1</td>\n",
       "      <td>1</td>\n",
       "      <td>0</td>\n",
       "    </tr>\n",
       "    <tr>\n",
       "      <th>2994</th>\n",
       "      <td>Clint Eastwood returns as Dirty Harry Calahan ...</td>\n",
       "      <td>1</td>\n",
       "      <td>1</td>\n",
       "      <td>0</td>\n",
       "    </tr>\n",
       "  </tbody>\n",
       "</table>\n",
       "<p>218 rows × 4 columns</p>\n",
       "</div>"
      ],
      "text/plain": [
       "                                                   text  label  dan  gru\n",
       "9     One of those, \"Why was this made?\" movies. The...      0    0    1\n",
       "13    Sorry, I don't have much time to write. I am n...      1    1    0\n",
       "18    One wonders how the script came to be written....      0    0    1\n",
       "21    The Egyptian Movies has A Lot Of Filmes With H...      0    0    1\n",
       "33    This movie proves that you can't judge a movie...      0    0    1\n",
       "...                                                 ...    ...  ...  ...\n",
       "2933  I thought that this film was very enjoyable. I...      1    1    0\n",
       "2947  Witty and disgusting. Brash and intelligent. B...      1    1    0\n",
       "2965  This version is pretty insipid, I'm afraid. Ja...      0    0    1\n",
       "2967  Jack Frost is about a serial killer who is sen...      1    1    0\n",
       "2994  Clint Eastwood returns as Dirty Harry Calahan ...      1    1    0\n",
       "\n",
       "[218 rows x 4 columns]"
      ]
     },
     "execution_count": 54,
     "metadata": {},
     "output_type": "execute_result"
    }
   ],
   "source": [
    "df.query(\"dan == label and gru != label\")"
   ]
  },
  {
   "cell_type": "code",
   "execution_count": 58,
   "id": "d3352995-6adf-43d5-bf60-7188b0e16b4e",
   "metadata": {},
   "outputs": [
    {
     "data": {
      "text/plain": [
       "\"This movie proves that you can't judge a movie by the awesome artwork on the DVD cover. It also goes to show that you should learn more about a movie before you buy it (or get it for someone at Christmas). The beginning of this movie actually looks somewhat promising. Well, until you meet the characters. Pumpkin Jack (the old guy from down the street) brings the college co-eds a book full of witch's spells that he leaves at their annual haunted house (where the movie takes place). After that there is some drinking, fighting, and soft core porn. Then the action of the movie finally takes place after over an hour.<br /><br />Overall, Hallow's End was predictable, unsuspensful, and reminiscent of a soft-core porn. This movie is probably best viewed with a group of friends who have nothing better to do, as it is a good movie to make fun of. And for first-time viewers, it is really fun making predictions of the order of people who die.\""
      ]
     },
     "execution_count": 58,
     "metadata": {},
     "output_type": "execute_result"
    }
   ],
   "source": [
    "df.loc[33].text"
   ]
  },
  {
   "cell_type": "code",
   "execution_count": 62,
   "id": "bb87a7cd-475d-46a8-a128-91ae78944013",
   "metadata": {},
   "outputs": [
    {
     "data": {
      "text/plain": [
       "727.0321100917431"
      ]
     },
     "execution_count": 62,
     "metadata": {},
     "output_type": "execute_result"
    }
   ],
   "source": [
    "df.query(\"dan == label and gru != label\").text.apply(len).mean()"
   ]
  },
  {
   "cell_type": "code",
   "execution_count": 63,
   "id": "abfee10d-3f98-4a70-a945-44e5c86adaa3",
   "metadata": {},
   "outputs": [
    {
     "data": {
      "text/plain": [
       "686.7676056338029"
      ]
     },
     "execution_count": 63,
     "metadata": {},
     "output_type": "execute_result"
    }
   ],
   "source": [
    "df.query(\"gru == label and dan != label\").text.apply(len).mean()"
   ]
  },
  {
   "cell_type": "code",
   "execution_count": 64,
   "id": "51a5392e-6af8-45bf-bd9b-18af268f7f32",
   "metadata": {},
   "outputs": [
    {
     "data": {
      "text/plain": [
       "694.133"
      ]
     },
     "execution_count": 64,
     "metadata": {},
     "output_type": "execute_result"
    }
   ],
   "source": [
    "df.text.apply(len).mean()"
   ]
  },
  {
   "cell_type": "code",
   "execution_count": 67,
   "id": "c1b6ee66-79a7-41c3-b501-30a3f3bd57b7",
   "metadata": {},
   "outputs": [
    {
     "data": {
      "text/plain": [
       "124.477"
      ]
     },
     "execution_count": 67,
     "metadata": {},
     "output_type": "execute_result"
    }
   ],
   "source": [
    "df.text.apply(lambda s: len(s.split())).mean()"
   ]
  },
  {
   "cell_type": "code",
   "execution_count": 69,
   "id": "3d56324e-8600-446c-800b-124902336dcc",
   "metadata": {},
   "outputs": [
    {
     "data": {
      "text/plain": [
       "128.848623853211"
      ]
     },
     "execution_count": 69,
     "metadata": {},
     "output_type": "execute_result"
    }
   ],
   "source": [
    "df.query(\"dan == label and gru != label\").text.apply(lambda s: len(s.split())).mean()"
   ]
  },
  {
   "cell_type": "code",
   "execution_count": 70,
   "id": "3311a921-49fc-44b6-a7d8-23d20657f3c1",
   "metadata": {},
   "outputs": [
    {
     "data": {
      "text/plain": [
       "121.87323943661971"
      ]
     },
     "execution_count": 70,
     "metadata": {},
     "output_type": "execute_result"
    }
   ],
   "source": [
    "df.query(\"gru == label and dan != label\").text.apply(lambda s: len(s.split())).mean()"
   ]
  },
  {
   "cell_type": "code",
   "execution_count": null,
   "id": "0f3379ae-a2dd-4d49-aaf8-75d012cf118a",
   "metadata": {},
   "outputs": [],
   "source": []
  }
 ],
 "metadata": {
  "kernelspec": {
   "display_name": "Python 3",
   "language": "python",
   "name": "python3"
  },
  "language_info": {
   "codemirror_mode": {
    "name": "ipython",
    "version": 3
   },
   "file_extension": ".py",
   "mimetype": "text/x-python",
   "name": "python",
   "nbconvert_exporter": "python",
   "pygments_lexer": "ipython3",
   "version": "3.6.13"
  }
 },
 "nbformat": 4,
 "nbformat_minor": 5
}
